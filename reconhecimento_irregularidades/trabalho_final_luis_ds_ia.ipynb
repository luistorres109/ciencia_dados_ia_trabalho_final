{
  "nbformat": 4,
  "nbformat_minor": 0,
  "metadata": {
    "colab": {
      "provenance": [],
      "authorship_tag": "ABX9TyOfp2ESlQ3YDTpJPTHa1FBB",
      "include_colab_link": true
    },
    "kernelspec": {
      "name": "python3",
      "display_name": "Python 3"
    },
    "language_info": {
      "name": "python"
    }
  },
  "cells": [
    {
      "cell_type": "markdown",
      "metadata": {
        "id": "view-in-github",
        "colab_type": "text"
      },
      "source": [
        "<a href=\"https://colab.research.google.com/github/luistorres109/ciencia_dados_ia_trabalho_final/blob/main/reconhecimento_irregularidades/trabalho_final_luis_ds_ia.ipynb\" target=\"_parent\"><img src=\"https://colab.research.google.com/assets/colab-badge.svg\" alt=\"Open In Colab\"/></a>"
      ]
    },
    {
      "cell_type": "code",
      "execution_count": null,
      "metadata": {
        "id": "qTBkTqqHLFSz",
        "colab": {
          "base_uri": "https://localhost:8080/"
        },
        "outputId": "e341a40d-2a8f-4fda-f013-97fb4ad837da"
      },
      "outputs": [
        {
          "output_type": "stream",
          "name": "stdout",
          "text": [
            "Mounted at /content/drive\n"
          ]
        }
      ],
      "source": [
        "# AVISO LEGAL!!!\n",
        "# Isto se trata de um trabalho acadêmico e não está sendo feita nenhuma acusação de fato se há alguma ilegalidade ou não nas licitações, e quem tem que decidir isso é o MP e a Justiça Brasileira\n",
        "from sklearn.ensemble import RandomForestRegressor\n",
        "from sklearn.preprocessing import OneHotEncoder\n",
        "from google.colab import drive\n",
        "import pandas as pd\n",
        "\n",
        "drive.mount('/content/drive')"
      ]
    },
    {
      "cell_type": "code",
      "source": [
        "df = pd.read_csv(\"/content/drive/MyDrive/editais_dados.csv\", delimiter=';')\n",
        "print(df)"
      ],
      "metadata": {
        "colab": {
          "base_uri": "https://localhost:8080/"
        },
        "id": "UcDre36DMZ3p",
        "outputId": "04828bf3-d568-4014-da67-917b134be380"
      },
      "execution_count": null,
      "outputs": [
        {
          "output_type": "stream",
          "name": "stdout",
          "text": [
            "           Data Horario    Edital  \\\n",
            "0    2023-05-02     NaN  029/2023   \n",
            "1    2023-05-10     NaN  135/2023   \n",
            "2    2023-05-22     NaN  042/2023   \n",
            "3    2023-05-22   16:00  138/2023   \n",
            "4    2023-05-22   15:00  140/2023   \n",
            "..          ...     ...       ...   \n",
            "146  2023-08-23   16:00  297/2023   \n",
            "147  2023-08-24   14:00  244/2023   \n",
            "148  2023-08-28   10:10  301/2023   \n",
            "149  2023-08-30   16:00  283/2023   \n",
            "150  2023-09-05   08:40  294/2023   \n",
            "\n",
            "                                                 Local  \\\n",
            "0                                                  NaN   \n",
            "1                                                  NaN   \n",
            "2                                                  NaN   \n",
            "3                                         licitações-e   \n",
            "4                                         licitações-e   \n",
            "..                                                 ...   \n",
            "146  Setor de Compras e Licitações na Prefeitura Mu...   \n",
            "147  Setor de Compras e Licitações na Prefeitura Mu...   \n",
            "148  Setor de Compras e Licitações na Prefeitura Mu...   \n",
            "149  Setor de Compras e Licitações na Prefeitura Mu...   \n",
            "150  Setor de Compras e Licitações na Prefeitura Mu...   \n",
            "\n",
            "                     Modalidade Forma julgamento  \\\n",
            "0               Inexigibilidade         Por item   \n",
            "1               Inexigibilidade         Por item   \n",
            "2    Dispensa por Justificativa         Por item   \n",
            "3             Pregão Eletrônico         Por item   \n",
            "4             Pregão Eletrônico         Por item   \n",
            "..                          ...              ...   \n",
            "146           Pregão Presencial         Por item   \n",
            "147           Pregão Presencial         Por item   \n",
            "148           Pregão Presencial           Global   \n",
            "149           Pregão Presencial         Por item   \n",
            "150           Pregão Presencial           Global   \n",
            "\n",
            "                         Unidade gestora  \\\n",
            "0    Fundo Municipal de Saúde de Chapecó   \n",
            "1        Prefeitura Municipal de Chapecó   \n",
            "2    Fundo Municipal de Saúde de Chapecó   \n",
            "3        Prefeitura Municipal de Chapecó   \n",
            "4        Prefeitura Municipal de Chapecó   \n",
            "..                                   ...   \n",
            "146      Prefeitura Municipal de Chapecó   \n",
            "147      Prefeitura Municipal de Chapecó   \n",
            "148      Prefeitura Municipal de Chapecó   \n",
            "149      Prefeitura Municipal de Chapecó   \n",
            "150      Prefeitura Municipal de Chapecó   \n",
            "\n",
            "                                  Secretária  \\\n",
            "0                        Secretaria de Saúde   \n",
            "1             Diretoria de Segurança Pública   \n",
            "2                        Secretaria de Saúde   \n",
            "3    Secretaria da Família e Proteção Social   \n",
            "4                     Secretaria de Educação   \n",
            "..                                       ...   \n",
            "146           Diretoria de Segurança Pública   \n",
            "147              Secretaria Serviços Urbanos   \n",
            "148                    Secretaria de Governo   \n",
            "149           Secretaria de Serviços Urbanos   \n",
            "150                    Secretaria de Governo   \n",
            "\n",
            "                                                Objeto       Montante  \\\n",
            "0    CONTRATAÇÃO DE PRESTADORES DE SERVIÇOS PARA A ...     464.297,40   \n",
            "1    AQUISIÇÃO DE MUNIÇÕES PARA ARMAMENTO DA GUARDA...      80.343,00   \n",
            "2    CONTRATAÇÃO DE ORGANIZAÇÃO SOCIAL PARA ADMINIS...  10.556.017,14   \n",
            "3    AQUISIÇÃO DE GÁS A GRANEL PARA MANUTENÇÃO DAS ...     400.000,00   \n",
            "4    AQUISIÇÃO DE VEÍCULO TIPO PICAPE, PARA A SECRE...     297.533,32   \n",
            "..                                                 ...            ...   \n",
            "146  AQUISIÇÃO DE TINTA DE DEMARCAÇÃO VIÁRIA PARA P...      90.725,00   \n",
            "147                    AQUISIÇÃO DE SCANNER AUTOMOTIVO      28.813,17   \n",
            "148  CONTRATAÇÃO DE SERVIÇOS DE LIMPEZA COM FORNECI...     148.000,00   \n",
            "149  AQUISIÇÃO DE LUMINÁRIAS EM LED PARA INSTALAÇÃO...   2.762.970,00   \n",
            "150  CONTRATAÇÃO DE SERVIÇOS DE SEGURANÇA (DESARMAD...     273.891,28   \n",
            "\n",
            "            Tipo                                     Link da Página  \n",
            "0    Menor preço  https://transparencia.e-publica.net/epublica-p...  \n",
            "1    Menor preço  https://transparencia.e-publica.net/epublica-p...  \n",
            "2    Menor preço  https://transparencia.e-publica.net/epublica-p...  \n",
            "3    Menor preço  https://transparencia.e-publica.net/epublica-p...  \n",
            "4    Menor preço  https://transparencia.e-publica.net/epublica-p...  \n",
            "..           ...                                                ...  \n",
            "146  Menor preço  https://transparencia.e-publica.net/epublica-p...  \n",
            "147  Menor preço  https://transparencia.e-publica.net/epublica-p...  \n",
            "148  Menor preço  https://transparencia.e-publica.net/epublica-p...  \n",
            "149  Menor preço  https://transparencia.e-publica.net/epublica-p...  \n",
            "150  Menor preço  https://transparencia.e-publica.net/epublica-p...  \n",
            "\n",
            "[151 rows x 12 columns]\n"
          ]
        }
      ]
    },
    {
      "cell_type": "markdown",
      "source": [],
      "metadata": {
        "id": "b2XB0q2KNBNh"
      }
    },
    {
      "cell_type": "code",
      "source": [
        "# Substituir vírgulas por pontos e converter a coluna \"Montante\" para valores float\n",
        "df['Montante'] = df['Montante'].replace('\\.', '', regex=True).replace(',', '.', regex=True).astype(float)\n",
        "\n",
        "# Separar as características (features) e o alvo (target)\n",
        "df_features = df.drop([\"Montante\", \"Link da Página\", \"Horario\", \"Local\"], axis=1)\n",
        "df_target = df['Montante']\n",
        "\n",
        "# Separar variáveis categóricas\n",
        "categorical_cols = ['Data', 'Edital', 'Modalidade', 'Forma julgamento', 'Unidade gestora', 'Secretária', 'Objeto', 'Tipo']  # Substitua com suas colunas categóricas\n",
        "\n",
        "# Inicializar o codificador de categorias\n",
        "encoder = OneHotEncoder(handle_unknown='ignore', sparse_output=False)\n",
        "\n",
        "# Ajustar e transformar as variáveis categóricas\n",
        "df_encoded = encoder.fit_transform(df_features[categorical_cols])\n",
        "\n",
        "# Obter os nomes das colunas codificadas\n",
        "encoded_columns = [f\"{col}_{val}\" for col, values in zip(categorical_cols, encoder.categories_) for val in values]\n",
        "\n",
        "# Criado DF com as colunas codificadas\n",
        "df_features_encoded = pd.DataFrame(df_encoded, columns=encoded_columns)\n",
        "\n",
        "# Inicializar o modelo Random Forest\n",
        "rf_model = RandomForestRegressor(n_estimators=100, random_state=42)\n",
        "\n",
        "# Treinar o modelo\n",
        "rf_model.fit(df_features_encoded, df_target)\n",
        "\n",
        "# Fazer previsões em todo o conjunto de dados\n",
        "df['Montante_Pred'] = rf_model.predict(df_features_encoded)\n",
        "\n",
        "# Calcular a diferença entre os valores reais e previstos\n",
        "df['Desvio'] = df['Montante'] - df['Montante_Pred']\n",
        "\n",
        "# Definição de um limiar para identificar desvios significativos\n",
        "limiar_desvio = 1000000\n",
        "\n",
        "# Filtrar licitações com desvios significativos\n",
        "df = df[abs(df['Desvio']) > limiar_desvio].drop(['Data', 'Horario', 'Local', 'Modalidade', 'Forma julgamento', 'Unidade gestora', 'Secretária', 'Objeto', 'Tipo', 'Link da Página'], axis=1)\n",
        "df = df.loc[df['Desvio'] >= 0]\n",
        "\n",
        "# Visualizar as licitações irregulares\n",
        "print(\"Dataframe com os editais (SUPOSTAMENTE) irregulares:\")\n",
        "print(df)\n",
        "print(f\"\\nO numero total dessas licitacoes eh: {df[df.columns[0]].count()}\")"
      ],
      "metadata": {
        "colab": {
          "base_uri": "https://localhost:8080/"
        },
        "id": "UqW-ky2_QVkE",
        "outputId": "54e9de5d-3033-483b-8bc0-c03d3536b12a"
      },
      "execution_count": null,
      "outputs": [
        {
          "output_type": "stream",
          "name": "stdout",
          "text": [
            "Dataframe com os editais (SUPOSTAMENTE) irregulares:\n",
            "       Edital     Montante  Montante_Pred        Desvio\n",
            "2    042/2023  10556017.14   6.311167e+06  4.244850e+06\n",
            "23   168/2023   3845378.86   2.378604e+06  1.466775e+06\n",
            "30   022/2023   7428000.00   3.966299e+06  3.461701e+06\n",
            "80   061/2023  93733018.68   5.819120e+07  3.554182e+07\n",
            "117  154/2023   4500000.00   2.917920e+06  1.582080e+06\n",
            "129  035/2023   3640545.00   2.384379e+06  1.256166e+06\n",
            "149  283/2023   2762970.00   1.693218e+06  1.069752e+06\n",
            "\n",
            "O numero total dessas licitacoes eh: 7\n"
          ]
        }
      ]
    }
  ]
}