{
  "nbformat": 4,
  "nbformat_minor": 0,
  "metadata": {
    "colab": {
      "provenance": [],
      "authorship_tag": "ABX9TyOLI5mYhI0sY05vaXztsnD7",
      "include_colab_link": true
    },
    "kernelspec": {
      "name": "python3",
      "display_name": "Python 3"
    },
    "language_info": {
      "name": "python"
    }
  },
  "cells": [
    {
      "cell_type": "markdown",
      "metadata": {
        "id": "view-in-github",
        "colab_type": "text"
      },
      "source": [
        "<a href=\"https://colab.research.google.com/github/luistorres109/ciencia_dados_ia_trabalho_final/blob/main/reconhecimento_irregularidades/trabalho_final_luis_ds_ia.ipynb\" target=\"_parent\"><img src=\"https://colab.research.google.com/assets/colab-badge.svg\" alt=\"Open In Colab\"/></a>"
      ]
    },
    {
      "cell_type": "code",
      "execution_count": 12,
      "metadata": {
        "id": "qTBkTqqHLFSz",
        "colab": {
          "base_uri": "https://localhost:8080/"
        },
        "outputId": "5dd9bac3-25f0-49fa-b991-88b39812d84a"
      },
      "outputs": [
        {
          "output_type": "stream",
          "name": "stdout",
          "text": [
            "Drive already mounted at /content/drive; to attempt to forcibly remount, call drive.mount(\"/content/drive\", force_remount=True).\n"
          ]
        }
      ],
      "source": [
        "# AVISO LEGAL!!!\n",
        "# Isto se trata de um trabalho acadêmico e não está sendo feita nenhuma acusação de fato se há alguma ilegalidade ou não nas licitações, e quem tem que decidir isso é o MP e a Justiça Brasileira\n",
        "from sklearn.metrics import mean_absolute_error, mean_squared_error, r2_score\n",
        "from sklearn.model_selection import train_test_split\n",
        "from sklearn.ensemble import RandomForestRegressor\n",
        "from sklearn.preprocessing import OneHotEncoder\n",
        "from google.colab import drive\n",
        "import pandas as pd\n",
        "\n",
        "# Função para avaliar modelo\n",
        "def evaluate_model(y_true, y_pred):\n",
        "    mae = mean_absolute_error(y_true, y_pred)\n",
        "    mse = mean_squared_error(y_true, y_pred)\n",
        "    r2 = r2_score(y_true, y_pred)\n",
        "    return mae, mse, r2\n",
        "\n",
        "drive.mount('/content/drive')"
      ]
    },
    {
      "cell_type": "code",
      "source": [
        "df = pd.read_csv(\"/content/drive/MyDrive/editais_dados.csv\", delimiter=';')\n",
        "print(df)"
      ],
      "metadata": {
        "colab": {
          "base_uri": "https://localhost:8080/"
        },
        "id": "UcDre36DMZ3p",
        "outputId": "8ae15cdf-ce9d-4b60-aae6-c618d6f725c8"
      },
      "execution_count": 13,
      "outputs": [
        {
          "output_type": "stream",
          "name": "stdout",
          "text": [
            "           Data Horario    Edital  \\\n",
            "0    2023-05-02     NaN  029/2023   \n",
            "1    2023-05-10     NaN  135/2023   \n",
            "2    2023-05-22     NaN  042/2023   \n",
            "3    2023-05-22   16:00  138/2023   \n",
            "4    2023-05-22   15:00  140/2023   \n",
            "..          ...     ...       ...   \n",
            "146  2023-08-23   16:00  297/2023   \n",
            "147  2023-08-24   14:00  244/2023   \n",
            "148  2023-08-28   10:10  301/2023   \n",
            "149  2023-08-30   16:00  283/2023   \n",
            "150  2023-09-05   08:40  294/2023   \n",
            "\n",
            "                                                 Local  \\\n",
            "0                                                  NaN   \n",
            "1                                                  NaN   \n",
            "2                                                  NaN   \n",
            "3                                         licitações-e   \n",
            "4                                         licitações-e   \n",
            "..                                                 ...   \n",
            "146  Setor de Compras e Licitações na Prefeitura Mu...   \n",
            "147  Setor de Compras e Licitações na Prefeitura Mu...   \n",
            "148  Setor de Compras e Licitações na Prefeitura Mu...   \n",
            "149  Setor de Compras e Licitações na Prefeitura Mu...   \n",
            "150  Setor de Compras e Licitações na Prefeitura Mu...   \n",
            "\n",
            "                     Modalidade Forma julgamento  \\\n",
            "0               Inexigibilidade         Por item   \n",
            "1               Inexigibilidade         Por item   \n",
            "2    Dispensa por Justificativa         Por item   \n",
            "3             Pregão Eletrônico         Por item   \n",
            "4             Pregão Eletrônico         Por item   \n",
            "..                          ...              ...   \n",
            "146           Pregão Presencial         Por item   \n",
            "147           Pregão Presencial         Por item   \n",
            "148           Pregão Presencial           Global   \n",
            "149           Pregão Presencial         Por item   \n",
            "150           Pregão Presencial           Global   \n",
            "\n",
            "                         Unidade gestora  \\\n",
            "0    Fundo Municipal de Saúde de Chapecó   \n",
            "1        Prefeitura Municipal de Chapecó   \n",
            "2    Fundo Municipal de Saúde de Chapecó   \n",
            "3        Prefeitura Municipal de Chapecó   \n",
            "4        Prefeitura Municipal de Chapecó   \n",
            "..                                   ...   \n",
            "146      Prefeitura Municipal de Chapecó   \n",
            "147      Prefeitura Municipal de Chapecó   \n",
            "148      Prefeitura Municipal de Chapecó   \n",
            "149      Prefeitura Municipal de Chapecó   \n",
            "150      Prefeitura Municipal de Chapecó   \n",
            "\n",
            "                                  Secretária  \\\n",
            "0                        Secretaria de Saúde   \n",
            "1             Diretoria de Segurança Pública   \n",
            "2                        Secretaria de Saúde   \n",
            "3    Secretaria da Família e Proteção Social   \n",
            "4                     Secretaria de Educação   \n",
            "..                                       ...   \n",
            "146           Diretoria de Segurança Pública   \n",
            "147              Secretaria Serviços Urbanos   \n",
            "148                    Secretaria de Governo   \n",
            "149           Secretaria de Serviços Urbanos   \n",
            "150                    Secretaria de Governo   \n",
            "\n",
            "                                                Objeto       Montante  \\\n",
            "0    CONTRATAÇÃO DE PRESTADORES DE SERVIÇOS PARA A ...     464.297,40   \n",
            "1    AQUISIÇÃO DE MUNIÇÕES PARA ARMAMENTO DA GUARDA...      80.343,00   \n",
            "2    CONTRATAÇÃO DE ORGANIZAÇÃO SOCIAL PARA ADMINIS...  10.556.017,14   \n",
            "3    AQUISIÇÃO DE GÁS A GRANEL PARA MANUTENÇÃO DAS ...     400.000,00   \n",
            "4    AQUISIÇÃO DE VEÍCULO TIPO PICAPE, PARA A SECRE...     297.533,32   \n",
            "..                                                 ...            ...   \n",
            "146  AQUISIÇÃO DE TINTA DE DEMARCAÇÃO VIÁRIA PARA P...      90.725,00   \n",
            "147                    AQUISIÇÃO DE SCANNER AUTOMOTIVO      28.813,17   \n",
            "148  CONTRATAÇÃO DE SERVIÇOS DE LIMPEZA COM FORNECI...     148.000,00   \n",
            "149  AQUISIÇÃO DE LUMINÁRIAS EM LED PARA INSTALAÇÃO...   2.762.970,00   \n",
            "150  CONTRATAÇÃO DE SERVIÇOS DE SEGURANÇA (DESARMAD...     273.891,28   \n",
            "\n",
            "            Tipo                                     Link da Página  \n",
            "0    Menor preço  https://transparencia.e-publica.net/epublica-p...  \n",
            "1    Menor preço  https://transparencia.e-publica.net/epublica-p...  \n",
            "2    Menor preço  https://transparencia.e-publica.net/epublica-p...  \n",
            "3    Menor preço  https://transparencia.e-publica.net/epublica-p...  \n",
            "4    Menor preço  https://transparencia.e-publica.net/epublica-p...  \n",
            "..           ...                                                ...  \n",
            "146  Menor preço  https://transparencia.e-publica.net/epublica-p...  \n",
            "147  Menor preço  https://transparencia.e-publica.net/epublica-p...  \n",
            "148  Menor preço  https://transparencia.e-publica.net/epublica-p...  \n",
            "149  Menor preço  https://transparencia.e-publica.net/epublica-p...  \n",
            "150  Menor preço  https://transparencia.e-publica.net/epublica-p...  \n",
            "\n",
            "[151 rows x 12 columns]\n"
          ]
        }
      ]
    },
    {
      "cell_type": "markdown",
      "source": [],
      "metadata": {
        "id": "b2XB0q2KNBNh"
      }
    },
    {
      "cell_type": "code",
      "source": [
        "# Substituir vírgulas por pontos e converter a coluna \"Montante\" para valores float\n",
        "df['Montante'] = df['Montante'].replace('\\.', '', regex=True)\n",
        "df['Montante'] = df['Montante'].str.replace(',', '.').astype(float)\n",
        "\n",
        "# Separar as características (features) e o alvo (target)\n",
        "df_features = df.drop([\"Montante\", \"Link da Página\", \"Horario\", \"Local\"], axis=1)\n",
        "df_target = df['Montante']\n",
        "\n",
        "# Separar variáveis categóricas\n",
        "categorical_cols = ['Data', 'Edital', 'Modalidade', 'Forma julgamento', 'Unidade gestora', 'Secretária', 'Objeto', 'Tipo']  # Substitua com suas colunas categóricas\n",
        "\n",
        "# Inicializar o codificador de categorias\n",
        "encoder = OneHotEncoder(handle_unknown='ignore', sparse_output=False)\n",
        "\n",
        "# Ajustar e transformar as variáveis categóricas\n",
        "df_encoded = encoder.fit_transform(df_features[categorical_cols])\n",
        "\n",
        "# Obter os nomes das colunas codificadas\n",
        "encoded_columns = [f\"{col}_{val}\" for col, values in zip(categorical_cols, encoder.categories_) for val in values]\n",
        "\n",
        "# Criado DF com as colunas codificadas\n",
        "df_features_encoded = pd.DataFrame(df_encoded, columns=encoded_columns)\n",
        "\n",
        "# Dividir os dados em treino, validação e teste (70-10-20)\n",
        "X_train, X_temp, y_train, y_temp = train_test_split(df_features_encoded, df_target, test_size=0.3, random_state=42)\n",
        "X_val, X_test, y_val, y_test = train_test_split(X_temp, y_temp, test_size=0.66, random_state=42)\n",
        "\n",
        "# Inicializar o modelo Random Forest\n",
        "rf_model = RandomForestRegressor(n_estimators=100, random_state=42)\n",
        "\n",
        "# Treinar o modelo\n",
        "rf_model.fit(X_train, y_train)\n",
        "\n",
        "# Fazer previsões em partes do conjunto de dados\n",
        "y_val_pred = rf_model.predict(X_val)\n",
        "y_test_pred = rf_model.predict(X_test)"
      ],
      "metadata": {
        "id": "UqW-ky2_QVkE"
      },
      "execution_count": 14,
      "outputs": []
    },
    {
      "cell_type": "code",
      "source": [
        "# Avaliar o modelo\n",
        "test_rf_metrics_test = evaluate_model(y_test, y_test_pred)\n",
        "val_rf_metrics_val = evaluate_model(y_val, y_val_pred)\n",
        "\n",
        "print(\"\\nTeste - Random Forest:\")\n",
        "print(\"- MAE (Mean Absolute Error):\", test_rf_metrics_test[0])\n",
        "print(\"- MSE (Mean Squared Error):\", test_rf_metrics_test[1])\n",
        "print(\"- R2 Score:\", test_rf_metrics_test[2])\n",
        "\n",
        "print(\"\\nValidação - Random Forest:\")\n",
        "print(\"- MAE (Mean Absolute Error):\", val_rf_metrics_val[0])\n",
        "print(\"- MSE (Mean Squared Error):\", val_rf_metrics_val[1])\n",
        "print(\"- R2 Score:\", val_rf_metrics_val[2])"
      ],
      "metadata": {
        "colab": {
          "base_uri": "https://localhost:8080/"
        },
        "id": "Xkj4wjurFRdL",
        "outputId": "98a7f963-5daa-4ef5-c24e-73d079161f69"
      },
      "execution_count": 15,
      "outputs": [
        {
          "output_type": "stream",
          "name": "stdout",
          "text": [
            "\n",
            "Teste - Random Forest:\n",
            "- MAE (Mean Absolute Error): 751776.9460161291\n",
            "- MSE (Mean Squared Error): 2835669182738.448\n",
            "- R2 Score: -0.38318891116702036\n",
            "\n",
            "Validação - Random Forest:\n",
            "- MAE (Mean Absolute Error): 593113.8498866666\n",
            "- MSE (Mean Squared Error): 1870217771657.7346\n",
            "- R2 Score: -23.523422703992406\n"
          ]
        }
      ]
    },
    {
      "cell_type": "code",
      "source": [
        "# Fazer previsões em todo o conjunto de dados\n",
        "df['Montante_Pred'] = rf_model.predict(df_features_encoded)\n",
        "\n",
        "# Calcular a diferença entre os valores reais e previstos\n",
        "df['Desvio'] = (df['Montante'] - df['Montante_Pred']) / df['Montante']\n",
        "\n",
        "# Definição de um limiar para identificar desvios significativos\n",
        "limiar_desvio = 0.25\n",
        "\n",
        "# Filtrar licitações com desvios significativos\n",
        "df = df[abs(df['Desvio']) > limiar_desvio].drop(['Data', 'Horario', 'Local', 'Modalidade', 'Forma julgamento', 'Unidade gestora', 'Secretária', 'Objeto', 'Tipo', 'Link da Página'], axis=1)\n",
        "df = df.loc[df['Desvio'] >= 0]\n",
        "\n",
        "# Visualizar as licitações irregulares\n",
        "print(\"Dataframe com os editais (SUPOSTAMENTE) irregulares:\")\n",
        "print(df)\n",
        "print(f\"\\nO numero total dessas licitacoes eh: {df[df.columns[0]].count()}\")"
      ],
      "metadata": {
        "colab": {
          "base_uri": "https://localhost:8080/"
        },
        "id": "jCFaTchAFVzj",
        "outputId": "c642e6ce-bf8d-4b2a-93af-f14a07b3fcb9"
      },
      "execution_count": 16,
      "outputs": [
        {
          "output_type": "stream",
          "name": "stdout",
          "text": [
            "Dataframe com os editais (SUPOSTAMENTE) irregulares:\n",
            "       Edital     Montante  Montante_Pred    Desvio\n",
            "0    029/2023    464297.40   3.357965e+05  0.276764\n",
            "2    042/2023  10556017.14   6.523905e+06  0.381973\n",
            "6    143/2023    398000.00   2.877282e+05  0.277065\n",
            "8    009/2023    225000.00   1.478850e+05  0.342733\n",
            "11   009/2023    225000.00   1.425740e+05  0.366338\n",
            "16   186/2023    108648.00   4.282998e+04  0.605791\n",
            "18   147/2023    128013.00   7.871448e+04  0.385106\n",
            "22   157/2023   1434000.00   3.727548e+04  0.974006\n",
            "23   168/2023   3845378.86   2.568397e+06  0.332082\n",
            "27   048/2023    546891.74   1.821216e+05  0.666988\n",
            "29   141/2023   1133354.54   5.687709e+04  0.949815\n",
            "30   022/2023   7428000.00   1.781236e+05  0.976020\n",
            "32   163/2023    156030.15   5.322291e+04  0.658893\n",
            "35   166/2023    747193.50   5.177465e+05  0.307078\n",
            "36   165/2023    230395.00   9.933154e+04  0.568864\n",
            "43   056/2023    754670.77   5.450848e+05  0.277718\n",
            "54   175/2023    432619.00   2.893832e+05  0.331090\n",
            "63   196/2023   1410000.00   9.976659e+05  0.292436\n",
            "66   205/2023    264414.24   6.743173e+04  0.744977\n",
            "67   217/2023    153066.40   9.627539e+04  0.371022\n",
            "74   211/2023    591500.00   3.823466e+05  0.353598\n",
            "78   197/2023   2184488.89   8.864128e+05  0.594224\n",
            "80   061/2023  93733018.68   6.753498e+07  0.279496\n",
            "84   239/2023    317000.00   9.019211e+04  0.715482\n",
            "85   062/2023    512313.72   1.848631e+05  0.639160\n",
            "87   218/2023   1033506.85   7.511675e+05  0.273186\n",
            "101  252/2023   1046400.00   7.482818e+05  0.284899\n",
            "102  253/2023   1080000.00   7.330676e+05  0.321234\n",
            "105  155/2023    142500.00   6.268010e+04  0.560140\n",
            "108  237/2023   2054265.48   1.490319e+06  0.274525\n",
            "109  242/2023    791000.00   5.720514e+05  0.276800\n",
            "111  210/2023    570000.00   8.584129e+04  0.849401\n",
            "114  247/2023    233506.67   1.071581e+05  0.541092\n",
            "115  276/2023   1224704.78   8.101760e+05  0.338472\n",
            "117  154/2023   4500000.00   2.620264e+06  0.417719\n",
            "120  274/2023    216950.00   1.557884e+05  0.281915\n",
            "123  235/2023    224100.00   1.568289e+05  0.300183\n",
            "125  287/2023    190000.00   9.091441e+04  0.521503\n",
            "129  035/2023   3640545.00   2.242183e+06  0.384108\n",
            "132  273/2023    435631.30   9.161643e+04  0.789693\n",
            "133  277/2023    178971.00   1.306041e+05  0.270250\n",
            "142  266/2023   2778786.88   9.716287e+05  0.650341\n",
            "143  058/2023    620725.00   1.724621e+05  0.722160\n",
            "144  269/2023    317000.00   6.625040e+04  0.791008\n",
            "149  283/2023   2762970.00   1.114585e+05  0.959660\n",
            "150  294/2023    273891.28   2.018801e+05  0.262919\n",
            "\n",
            "O numero total dessas licitacoes eh: 46\n"
          ]
        }
      ]
    }
  ]
}